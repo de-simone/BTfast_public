{
 "cells": [
  {
   "cell_type": "code",
   "execution_count": 1,
   "metadata": {
    "collapsed": true
   },
   "outputs": [],
   "source": [
    "import matplotlib.pyplot as plt\n",
    "import numpy as np\n",
    "from scipy import stats"
   ]
  },
  {
   "cell_type": "code",
   "execution_count": 6,
   "metadata": {
    "collapsed": true
   },
   "outputs": [],
   "source": [
    "y = np.array([1210,2210,1640,3450,2380,3290,1110,280,440,-1030,-1580,-1030,-940,-140,100,240,160,-640,-60,150,-190,-450,1710,2130,2460,2880,3270,3500,2910,3010,3370,4330,3300,2910,3210,4010,6120,5550,4520,3070,3260,3900,5160,5160,5170,5490,6150,7150,7620,7870,8120,8310,8200,7840,6680,5520,5350,4450,5000,5000,4670,3710,3640,4080,4050,3210,2460,4140,4000,3160,3770,4520,4790,5380,4540,5610,5650,7660])\n",
    "pl = [1210,1000,-570,1810,-1070,910,-2180,-830,160,-1470,-550,550,90,800,240,140,-80,-800,580,210,-340,-260,2160,420,330,420,390,230,-590,100,360,960,-1030,-390,300,800,2110,-570,-1030,-1450,190,640,1260,0,10,320,660,1000,470,250,250,190,-110,-360,-1160,-1160,-170,-900,550,0,-330,-960,-70,440,-30,-840,-750,1680,-140,-840,610,750,270,590,-840,1070,40,2010]\n",
    "x = np.arange(0,len(y))\n",
    "\n",
    "n = len(y)\n",
    "sumx = sum(x)\n",
    "sumx2 = sum(x**2)\n",
    "sumxy = sum(x*y)\n",
    "sumy = sum(y)\n",
    "sumy2 = sum(y**2)"
   ]
  },
  {
   "cell_type": "code",
   "execution_count": 7,
   "metadata": {
    "scrolled": true
   },
   "outputs": [
    {
     "name": "stdout",
     "output_type": "stream",
     "text": [
      "3003\n",
      "155155\n",
      "13492500\n",
      "273300\n",
      "1434144200\n"
     ]
    }
   ],
   "source": [
    "print(sumx)\n",
    "print(sumx2)\n",
    "print(sumxy)\n",
    "print(sumy)\n",
    "print(sumy2)"
   ]
  },
  {
   "cell_type": "code",
   "execution_count": 5,
   "metadata": {
    "scrolled": true
   },
   "outputs": [
    {
     "name": "stdout",
     "output_type": "stream",
     "text": [
      "3081\n",
      "161239\n",
      "13765800\n",
      "273300\n",
      "1434144200\n"
     ]
    }
   ],
   "source": [
    "print(sumx)\n",
    "print(sumx2)\n",
    "print(sumxy)\n",
    "print(sumy)\n",
    "print(sumy2)"
   ]
  },
  {
   "cell_type": "code",
   "execution_count": 8,
   "metadata": {},
   "outputs": [
    {
     "data": {
      "text/plain": [
       "0.4682860098846673"
      ]
     },
     "execution_count": 8,
     "metadata": {},
     "output_type": "execute_result"
    }
   ],
   "source": [
    "( pow( n * sumxy - sumx * sumy, 2 )\n",
    "     /( ( n * sumx2 - pow(sumx,2) ) * ( n * sumy2 - pow(sumy,2) ) ) )"
   ]
  },
  {
   "cell_type": "markdown",
   "metadata": {},
   "source": [
    "***"
   ]
  },
  {
   "cell_type": "code",
   "execution_count": 156,
   "metadata": {},
   "outputs": [
    {
     "name": "stdout",
     "output_type": "stream",
     "text": [
      "R-squared=  0.4682860098846671\n"
     ]
    }
   ],
   "source": [
    "slope, intercept, r_value, p_value, std_err = stats.linregress(x, y)\n",
    "print(\"R-squared= \", r_value**2)"
   ]
  },
  {
   "cell_type": "code",
   "execution_count": 21,
   "metadata": {},
   "outputs": [
    {
     "data": {
      "image/png": "[encoded data removed]",
      "text/plain": [
       "<Figure size 432x288 with 1 Axes>"
      ]
     },
     "metadata": {},
     "output_type": "display_data"
    }
   ],
   "source": [
    "plt.plot(x, y, 'o', label='original data')\n",
    "plt.plot(x, intercept + slope*x, 'r', label='fitted line')\n",
    "plt.legend()\n",
    "plt.show()"
   ]
  },
  {
   "cell_type": "markdown",
   "metadata": {
    "collapsed": true
   },
   "source": [
    "***"
   ]
  },
  {
   "cell_type": "code",
   "execution_count": 16,
   "metadata": {},
   "outputs": [
    {
     "data": {
      "text/plain": [
       "7.66"
      ]
     },
     "execution_count": 16,
     "metadata": {},
     "output_type": "execute_result"
    }
   ],
   "source": [
    "(((100000+y[-1])/100000)-1)*100"
   ]
  },
  {
   "cell_type": "code",
   "execution_count": 19,
   "metadata": {},
   "outputs": [
    {
     "data": {
      "text/plain": [
       "1.4185185185185185"
      ]
     },
     "execution_count": 19,
     "metadata": {},
     "output_type": "execute_result"
    }
   ],
   "source": [
    "7.66/5.4"
   ]
  },
  {
   "cell_type": "code",
   "execution_count": null,
   "metadata": {
    "collapsed": true
   },
   "outputs": [],
   "source": []
  }
 ],
 "metadata": {
  "kernelspec": {
   "display_name": "Python 3",
   "language": "python",
   "name": "python3"
  },
  "language_info": {
   "codemirror_mode": {
    "name": "ipython",
    "version": 3
   },
   "file_extension": ".py",
   "mimetype": "text/x-python",
   "name": "python",
   "nbconvert_exporter": "python",
   "pygments_lexer": "ipython3",
   "version": "3.6.2"
  },
  "toc": {
   "base_numbering": 1,
   "nav_menu": {},
   "number_sections": false,
   "sideBar": true,
   "skip_h1_title": false,
   "title_cell": "Table of Contents",
   "title_sidebar": "Contents",
   "toc_cell": false,
   "toc_position": {
    "height": "calc(100% - 180px)",
    "left": "10px",
    "top": "150px",
    "width": "165px"
   },
   "toc_section_display": true,
   "toc_window_display": true
  }
 },
 "nbformat": 4,
 "nbformat_minor": 2
}
